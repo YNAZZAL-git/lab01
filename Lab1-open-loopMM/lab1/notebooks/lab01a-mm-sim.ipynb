{
 "cells": [
  {
   "cell_type": "markdown",
   "metadata": {},
   "source": [
    "# <p style=\"text-align: center;\"> <span style=\"color:yellowgreen\"> Running the MM simulator </span></p>\n",
    "\n",
    "In this notebook, we will use what we have learned about ROS in the exercises to start to control the duckiebot in simulation. "
   ]
  },
  {
   "cell_type": "markdown",
   "metadata": {},
   "source": [
    "## See what the Duckiebot Sees\n",
    "\n",
    "1. As in the exercies, we will launch the vnc container in the browser by running following command in the terminal **of your laptop** (not the terminal in VSCode!) except this time with the `--sim` argument. \n",
    "\n",
    "**Note:** Make sure you are in your `lab1` directory, using the `cd` command if needed:\n",
    "\n",
    "\n",
    "\n"
   ]
  },
  {
   "cell_type": "code",
   "execution_count": null,
   "metadata": {
    "vscode": {
     "languageId": "shellscript"
    }
   },
   "outputs": [],
   "source": [
    "dts code workbench --recipe ../lab1-recipe --sim"
   ]
  },
  {
   "cell_type": "markdown",
   "metadata": {},
   "source": [
    "**Note 1:** You will need to stop any previous vnc container with CTRL-C and then execute this with the `--sim` option.\n",
    "\n",
    "**Note 2:** This may take some time to run the first time because it needs to download the docker image of the Duckietown simulation environment. \n",
    "\n",
    "2. Open the vnc container with the link generated after running the `dts code workbench`command\n",
    "\n",
    "3. Once you open the vnc container, as before, you should see the same icons on the left hand side.  \n",
    "Double-click on the one that says `RQT Image ...`, clicking on this opens the ROS utility.  \n",
    "In the top left scroll down bar of the `rqt_image_view` window you should see only one option: `/agent/camera_node/image/compressed` if you select it you will see the output from the camera on the virtual Duckiebot.\n",
    "\n",
    "\n",
    "<br><img src=\"../assets/lab1-images/vnc-image-sim.png\" style=\"width: 30%; height: auto;\"></br>\n",
    "\n",
    "\n"
   ]
  },
  {
   "cell_type": "markdown",
   "metadata": {},
   "source": [
    "## Manually driving the MM in the simulator\n",
    "\n",
    "1. In the vnc container that you have opened above:  \n",
    "    a. Double click on the `Joystick` icon.  \n",
    "    b. You can try clicking on the directions or using the arrow keys on your keyboard.  \n",
    "    c. You should see the corresponding direction on the joystick turn green, but you **won't** see the robot moving in the simulation (assuming you still have the`rqt_image_view` window open from the previous step).\n",
    "\n",
    "2. Open the `LXTerminal` in the vnc container. \n",
    "Go the the catkin_ws to build and activate it\n",
    "\n"
   ]
  },
  {
   "cell_type": "code",
   "execution_count": null,
   "metadata": {
    "vscode": {
     "languageId": "shellscript"
    }
   },
   "outputs": [],
   "source": [
    "cd /code/catkin_ws\n",
    "catkin build\n",
    "source devel/setup.bash"
   ]
  },
  {
   "cell_type": "markdown",
   "metadata": {},
   "source": [
    "3. Run the dt-joystick-demo package in the `LXterminal` you have opened"
   ]
  },
  {
   "cell_type": "code",
   "execution_count": null,
   "metadata": {
    "vscode": {
     "languageId": "shellscript"
    }
   },
   "outputs": [],
   "source": [
    "rosrun dt-joystick-demo dt-joystick-demo-node.py"
   ]
  },
  {
   "cell_type": "markdown",
   "metadata": {},
   "source": [
    "Now when you use your arrow keys on the joystick controller, you should see the duckiebot move in the simulation. If it still is not moving, make sure you are in the joystick window and the arrows light up when you press your arrow keys.\n",
    "\n",
    "**NOTE:** You can examine the topic used to make the MM move in the simulation by checking the ROS node list using the debugging tools in a new terminal and look for the joystick demo node. To make a new terminal tab, select **File** in the top left of the LXTerminal window and select **New Tab**."
   ]
  },
  {
   "cell_type": "markdown",
   "metadata": {},
   "source": [
    "**NOTE:** While you are still running the simulator. \n",
    "Check the other topics available and their information (which message do they take) using the rostopic commands.\n",
    "You should see the following topics.\n",
    "\n",
    "```\n",
    "/agent/camera_node/camera_info\n",
    "/agent/camera_node/image/compressed\n",
    "/agent/coordinator_node/intersection_go\n",
    "/agent/episode_start\n",
    "/agent/joy\n",
    "/agent/led_emitter_node/led_pattern\n",
    "/agent/left_wheel_encoder_node/tick\n",
    "/agent/right_wheel_encoder_node/tick\n",
    "/agent/wheels_driver_node/emergency_stop\n",
    "/agent/wheels_driver_node/wheels_cmd\n",
    "/rosout\n",
    "/rosout_agg\n",
    "```\n",
    "\n",
    "### The Task Ahead\n",
    "\n",
    "Our objective for the rest of this exercise will be to create a ROS node that publish messages to the `/agent/wheels_driver_node/wheels_cmd` topic so that the MM moves around the block. \n",
    "\n",
    "You can close the vnc container for now by pressing CTRL+C in you hostOS terminal where the vnc is running."
   ]
  },
  {
   "cell_type": "markdown",
   "metadata": {},
   "source": [
    "## Create a New Package\n",
    "\n",
    "Go to the vscode container now and create a new package for the task of moving the MM around the block.  \n",
    "Run the dts code editor command in a terminal in the hostOS in the lab1 folder. "
   ]
  },
  {
   "cell_type": "code",
   "execution_count": null,
   "metadata": {
    "vscode": {
     "languageId": "shellscript"
    }
   },
   "outputs": [],
   "source": [
    "dts code editor --recipe ../lab1-recipe"
   ]
  },
  {
   "cell_type": "markdown",
   "metadata": {},
   "source": [
    "### Package Instructions:\n",
    "\n",
    "- Create a package as we have done it in Exercise 2 as well as a node.  \n",
    "- Name the package as `lab1` and the node `mmdriver.py`  \n",
    "- The package will have the following dependencies: `std_msgs sensor_msgs duckietown_msgs rospy`  \n",
    "\n",
    "Run the following command in the folder you want the package to be stored in: "
   ]
  },
  {
   "cell_type": "code",
   "execution_count": null,
   "metadata": {
    "vscode": {
     "languageId": "shellscript"
    }
   },
   "outputs": [],
   "source": [
    "catkin_create_pkg lab1 std_msgs sensor_msgs duckietown_msgs rospy"
   ]
  },
  {
   "cell_type": "markdown",
   "metadata": {},
   "source": [
    "- Remember to make `mmdriver.py` an executable file by using the chmod +x command"
   ]
  },
  {
   "cell_type": "markdown",
   "metadata": {},
   "source": [
    "## Writing the ROS Node\n",
    "\n",
    "The code below is a template for the ROS Node with detailed explainations."
   ]
  },
  {
   "cell_type": "code",
   "execution_count": null,
   "metadata": {},
   "outputs": [],
   "source": [
    "#!/usr/bin/env python3\n",
    "\n",
    "import rospy\n",
    "import os\n",
    "from duckietown_msgs.msg import WheelsCmdStamped # Import the message for the wheel command\n",
    "\n",
    "class CLASSNAME():#CHANGE CLASSNAME to the name of your class\n",
    "    def __init__(self):\n",
    "        \n",
    "        veh_name = os.environ['VEHICLE_NAME']\n",
    "\t\t# USING PARAMETER TO GET THE NAME OF THE VEHICLE\n",
    "        # THIS WILL BE USEFUL TO SPECIFY THE NAME OF THE TOPIC\n",
    "\n",
    "\n",
    "\t\t# INITIALIZE YOUR VARIABLES HERE (SUBSCRIBERS OR PUBLISHERS)\n",
    "\n",
    "    def YOUR_FUNCTION(self): # CHANGE TO THE NAME OF YOUR FUNCTION\n",
    "        #WRITE THE CODE TO MAKE THE MM GO AROUND THE BLOCK\n",
    "\n",
    "if __name__ == \"__main__\": ## The main function which will be called when your python script is executed.\n",
    "    # Initialize the node\n",
    "    try:\n",
    "\t\trospy.init_node('driving')\n",
    "\t\tdrive = CLASSNAME() # Initialize the CLASSNAME (CHANGE with the name of your class), i.e., it will create an object and it will run the __init__ function of your CLASSNAME\n",
    "\t\trospy.sleep(30) # Delay to wait enough time for the code to run after the simulator starts \n",
    "\t\t# Keep the line above - you might be able to reduce the delay a bit, e.g., 20secs or maybe 10sec, but check if the your node starts after the simulator\n",
    "\t\twhile not rospy.is_shutdown(): # Run ros forever - you can change this as well instead of running forever\n",
    "\t\t\tdrive.YOUR_FUNCTION() \n",
    "\t\t\t# calling your node function\n",
    "\t\t\trospy.spin() \n",
    "\texcept rospy.ROSInterruptException:\n",
    "\t\tpass"
   ]
  },
  {
   "cell_type": "markdown",
   "metadata": {},
   "source": [
    "## General Testing instructions\n",
    "\n",
    "1. Develop your code in the vscode container (Faster testing and debugging)\n",
    "\t- Test your code in the vscode container first.  \n",
    "\t- Make sure you can run your node in the vscode container before moving to the test it in the simulator.  \n",
    "\t- Add roslogs (prints) in the vscode container to make sure you are publishing the messages correctly. \n",
    "\t- Leave the vscode container open even when you move for testing in the simulator \n",
    "\n",
    "\n",
    "2. Once you are confident with your vscode container testing and debugging, then move to test in the simulator.  \n",
    "There are instructions below on how to test it in the vnc container with simulator\n",
    "\n",
    "3. Error discovered while testing in the simulator, e.g., MM does not move due to wrong topic name.\n",
    "\t- Close the vnc container with the simulator (CTRL + C in the hostOS terminal where you opened the vnc container)\n",
    "\t- Go back to the vscode container to fix the error.\n",
    "\t- Once the error is fixed, test in the simulator by reopening the vnc container.\n",
    "\t- The vscode container does not automatically update the code in the vnc container.  \n",
    "    \t- For example, if you fix the error in the vscode container while your vnc container is still open, the fix will not automatically go to the vnc container.\n",
    "\tYou will have to close the vnc container and reopen it. \n",
    "\tFor this reason, it is easier to debug as much as you can in the vscode container.\n",
    "\n"
   ]
  },
  {
   "cell_type": "markdown",
   "metadata": {},
   "source": [
    "## Testing your code in the simulator\n",
    "\n",
    "### Option 1 - Using the launcher option when initializing vnc\n",
    "\n",
    "1. Close any vnc container that might be running.\n",
    "\n",
    "2. If you made the name of your package and node different from the instructions, you will need to change the **line 11** inside the `lab1-recipe/launchers/lab1.sh`.  \n",
    "After the rosrun command in line 11, change the package name and node name with the name of your package and node.\n",
    "\n",
    "3. In the HostOS terminal, start the vnc container with the --sim and the --launcher lab1 options:"
   ]
  },
  {
   "cell_type": "code",
   "execution_count": null,
   "metadata": {
    "vscode": {
     "languageId": "shellscript"
    }
   },
   "outputs": [],
   "source": [
    "dts code workbench --recipe ../lab1-recipe --sim --launcher lab1"
   ]
  },
  {
   "cell_type": "markdown",
   "metadata": {},
   "source": [
    "\n",
    "4. Once the vnc container starts, you can open the `rqt_image_view`.  \n",
    "Although it is a little unclear for now, this `--launcher lab1` will run your node (as long as you called the package and the node exactly what was specified above). \n",
    "\n",
    "If all went well, you should see that your node is making the virtual MM move.\n",
    "If not, go back to the HostOS terminal where you ran `dts code workbench` to see if there are any errors reported by your code.\n",
    "If there are any errors, fix them in the vscode container.\n",
    "\n",
    "**Note:** The simulation takes some time to start. \n",
    "In order for your node to start after the simulation starts, add at least 20 seconds of delay to the start before running the main parts of your nodes.\n",
    "\n",
    "5. You can also observe the simulation by visiting the following link (It might take some time to see something appear-keep refreshing):\n",
    "\n"
   ]
  },
  {
   "cell_type": "code",
   "execution_count": null,
   "metadata": {
    "vscode": {
     "languageId": "shellscript"
    }
   },
   "outputs": [],
   "source": [
    "http://localhost:8090/"
   ]
  },
  {
   "cell_type": "markdown",
   "metadata": {},
   "source": [
    "\n",
    "### Option 2 - Using the LXTerminal in vnc\n",
    "\n",
    "1. Close any vnc container that might be running.\n",
    "\n",
    "2. In the HostOS terminal, start the vnc container with the --sim option"
   ]
  },
  {
   "cell_type": "code",
   "execution_count": null,
   "metadata": {
    "vscode": {
     "languageId": "shellscript"
    }
   },
   "outputs": [],
   "source": [
    "dts code workbench --recipe ../lab1-recipe --sim"
   ]
  },
  {
   "cell_type": "markdown",
   "metadata": {},
   "source": [
    "4. Open the vnc container and open the `LXTerminal` and the `rqt_image_view`\n",
    "\n",
    "5. In the LXTerminal, go to the `code/catkin_ws` directory by using the cd command\n",
    "\n",
    "6. In the catkin_ws folder, build the catkin workspace and activate it (catkin build and source commands)\n",
    "\n",
    "7. Run your launch file with: roslaunch filename.launch\n",
    "\n",
    "If all went all, you should see that your node is making the virtual MM move.\n",
    "If not, go back to the LXTerminal to see any errors reported.\n",
    "If there are any errors, close the vnc and fix them in the vscode container.\n",
    "\n",
    "**Note:** The simulation takes some time to start. \n",
    "Using the LXTerminal does not need too much delay time before starting your nodes. Having at least 5 seconds of delay should be enough.\n",
    "\n",
    "8. You can also observe the simulation visiting the following link below.\n"
   ]
  },
  {
   "cell_type": "code",
   "execution_count": null,
   "metadata": {
    "vscode": {
     "languageId": "shellscript"
    }
   },
   "outputs": [],
   "source": [
    "http://localhost:8090/"
   ]
  },
  {
   "cell_type": "markdown",
   "metadata": {},
   "source": [
    "## Getting a video from your simulation\n",
    "\n",
    "If you let your simulation run for a couple of minutes, all simulation episodes will terminate.  \n",
    "One way to get the video faster is by driving the MM out of bounds. \n",
    "You run open the joystick and run the LXTerminal `rosrun dt-joystick-demo dt-joystick-demo-node.py`\n",
    "\n",
    "The following message in the hostOS terminal should appear.\n",
    "\n",
    "<br><img src=\"../assets/lab1-images/MM-sim-end-of-episodes.png\" style=\"width: 40%; height: auto;\"></br>\n",
    "\n",
    "After all episodes are done, you can close the vnc container in the HostOS terminal.  \n",
    "In the bottom, a link for a tmp folder will appear as in the image below.   \n",
    "Open the link, it should open a new VSCODE in the hostOS.  \n",
    "Or you can use the folder directory and go to that path.  \n",
    "\n",
    "<br><img src=\"../assets/lab1-images/MM-sim-video-link.png\" style=\"width: 40%; height: auto;\"></br>\n",
    "\n",
    "You will be able to access the video in this folder.  \n",
    "\n",
    "<br><img src=\"../assets/lab1-images/MM-sim-video-folder.png\" style=\"width: 40%; height: auto;\"></br>\n"
   ]
  }
 ],
 "metadata": {
  "kernelspec": {
   "display_name": "Python 3.8.10 64-bit",
   "language": "python",
   "name": "python3"
  },
  "language_info": {
   "name": "python",
   "version": "3.8.10"
  },
  "vscode": {
   "interpreter": {
    "hash": "916dbcbb3f70747c44a77c7bcd40155683ae19c65e1c03b4aa3499c5328201f1"
   }
  }
 },
 "nbformat": 4,
 "nbformat_minor": 2
}
