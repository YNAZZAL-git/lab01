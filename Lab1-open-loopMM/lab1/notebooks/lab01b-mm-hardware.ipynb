{
 "cells": [
  {
   "cell_type": "markdown",
   "metadata": {},
   "source": [
    "# <p style=\"text-align: center;\"> <span style=\"color:yellowgreen\"> Running the MM </span></p>\n",
    "\n",
    "Finally, we will program the real MM.  \n",
    "Once your simulation code is running perfectly, we will test in the real MM 🦆"
   ]
  },
  {
   "cell_type": "markdown",
   "metadata": {},
   "source": [
    "## Instructions for first run \n",
    "\n",
    "<span style=\"color:coral\">NOTE: These instructions only need to be followed once (or a few times).</span>   \n",
    "They take sometime.  \n",
    "What we need to run them:\n",
    "\n",
    "- A new python library that has not been installed previously\n",
    "- A new lab computer - <span style=\"color:red\">Only use the class computers to connect to the real MMs. DO NOT USE PERSONAL COMPUTERS.</span>\n",
    "- Each lab group will be assigned a computer and same MM. \n",
    "- You will always use the same computer and MM unless there is a major error in them.  \n",
    "They will be part of your group too 😊 \n",
    "\n",
    "First, open the `Dockerfile` inside the your main repo directory (Not the ones inside lab1-recipe)  \n",
    "Change line 2 to match exactly the name of your repo.  \n",
    "For example, if my repo name is `ee483-group-A`, line 2 will be `ARG REPO_NAME=\"ee483-group-A\"`\n",
    "\n",
    "\n",
    "### Instructions\n",
    "\n",
    "\n",
    "#### A. Compiling the docker image\n",
    "\n",
    "Before we start, make sure you have your repository cloned on the lab computer and updated with the Labs folder. This is done the same way you setup your personal computer.\n",
    "\n",
    "1. In the HostOS terminal, go to the `Labs` directory using the `cd` command.  \n",
    "Double check that you are in the `Labs` folder with the `pwd` command. \n",
    "It should return: `some_path_in_the_class_computer/Labs`\n",
    "\n",
    "2. Open the Dockerfile and Edit line 4 to put your names in\n",
    "\n",
    "3. Compile your docker image locally for the MM with the following command\n",
    "\t- You may need to remove the “- - pull” from the above command if there is no preexisting image.  \n",
    "\t- The arm64v8 is the Jetson Nano architecture  "
   ]
  },
  {
   "cell_type": "code",
   "execution_count": null,
   "metadata": {
    "vscode": {
     "languageId": "shellscript"
    }
   },
   "outputs": [],
   "source": [
    "dts devel build -a arm64v8 -f --pull "
   ]
  },
  {
   "cell_type": "markdown",
   "metadata": {},
   "source": [
    "<br><img src=\"../assets/lab1-images/MM-real-build.png\" style=\"width: 30%; height: auto;\"></br>"
   ]
  },
  {
   "cell_type": "markdown",
   "metadata": {},
   "source": [
    "4. Find the docker image generated when the command above finishes without errors. Execute the following command in hostOS terminal to find the image name.\n",
    "\t- If there are errors, talk with the instructor or the TA.  \n",
    "\t- Your compiled image you want is usually the most recently created one."
   ]
  },
  {
   "cell_type": "code",
   "execution_count": null,
   "metadata": {
    "vscode": {
     "languageId": "shellscript"
    }
   },
   "outputs": [],
   "source": [
    "docker images "
   ]
  },
  {
   "cell_type": "markdown",
   "metadata": {},
   "source": [
    "<br><img src=\"../assets/lab1-images/MM-images.png\" style=\"width: 75%; height: auto;\"></br>\n",
    "\n",
    "5. Save the image in .tar file with the command below\n",
    "\t- Choose your \\<filename\\>, for example `mmcode`\n",
    "\t- Parameters \\<repo\\>:\\<tag\\> are the repository name and tag that show up after running docker images (the image you want to send to the MM).\n",
    "\t- This might take sometime and does not produce any information after running."
   ]
  },
  {
   "cell_type": "code",
   "execution_count": null,
   "metadata": {
    "vscode": {
     "languageId": "shellscript"
    }
   },
   "outputs": [],
   "source": [
    "docker save -o ~/<filename>.tar <repo>:<tag> "
   ]
  },
  {
   "cell_type": "markdown",
   "metadata": {},
   "source": [
    "<br><img src=\"../assets/lab1-images/MM-save-image.png\" style=\"width: 75%; height: auto;\"></br>"
   ]
  },
  {
   "cell_type": "markdown",
   "metadata": {},
   "source": [
    "#### B. Sending the image to the MM\n",
    "\n",
    "1. Connect computer to the classroom network.  \n",
    "   - The network has no internet access but we can communicate with the MMs.\n",
    "\n",
    "2. Turn on your MM by pressing the power button on the bottom of the chasis.\n",
    "<br><img src=\"../assets/lab1-images/MM-power.png\" style=\"width: 20%; height: auto;\"></br>\n",
    "\n",
    "3. Check if you MM is connected to the classroom network by running the code below.\n",
    "   - You should see the name of your MM pop up under hostname once your duckiebot is done booting"
   ]
  },
  {
   "cell_type": "code",
   "execution_count": null,
   "metadata": {
    "vscode": {
     "languageId": "shellscript"
    }
   },
   "outputs": [],
   "source": [
    "dts fleet discover"
   ]
  },
  {
   "cell_type": "markdown",
   "metadata": {},
   "source": [
    "\n",
    "4. Sending the docker image saved in part A. to an MM using the `scp` command\n",
    "\t- scp works as follows `scp path_file_to_transfer destination_to_send_the_file`\n",
    "\t- Use the command below to transfer the image.  \n",
    "\tReplace <filename> with filename created in previous step  \n",
    "\tReplace <MMname> with the name of your group MM. Make sure it's the correct one, e.g., ee483mm02 if your group has ee483mm02.  \n",
    "\tThe password is quackquack\n",
    "\t- We are transfering the image you have saved in A to the home folder in the MM \n"
   ]
  },
  {
   "cell_type": "code",
   "execution_count": null,
   "metadata": {
    "vscode": {
     "languageId": "shellscript"
    }
   },
   "outputs": [],
   "source": [
    "scp ~:/<filename>.tar duckie@<MMname>.local:~/ "
   ]
  },
  {
   "cell_type": "markdown",
   "metadata": {},
   "source": [
    "5. The command above might take a few minutes"
   ]
  },
  {
   "cell_type": "markdown",
   "metadata": {},
   "source": [
    "#### C. Loading the docker image in the MM\n",
    "\n",
    "1. Accessing the MM using `ssh` (Secure Shell)\n",
    "\t- Replace \\<MMname> with the name of the MM   \n",
    "\t- Answer yes to saving ssh fingerprint if this message appears\n",
    "\t- The password is quackquack\n",
    "\t- The ssh command will access a shell in the MM, i.e., once you run the command, we will be in the MM OS using the terminal in the hostOS"
   ]
  },
  {
   "cell_type": "code",
   "execution_count": null,
   "metadata": {
    "vscode": {
     "languageId": "shellscript"
    }
   },
   "outputs": [],
   "source": [
    "ssh duckie@<MMname>.local "
   ]
  },
  {
   "cell_type": "markdown",
   "metadata": {},
   "source": [
    "2. Check if the .tar file got transfer correctly to the MM with the `ls` command\n",
    "\t- You should see that the .tar file is in the home directory of the MM."
   ]
  },
  {
   "cell_type": "code",
   "execution_count": null,
   "metadata": {
    "vscode": {
     "languageId": "shellscript"
    }
   },
   "outputs": [],
   "source": [
    "ls"
   ]
  },
  {
   "cell_type": "markdown",
   "metadata": {},
   "source": [
    "3. Loading the docker image in the duckie  \n",
    "\t- This might take a while ~5-10 mins"
   ]
  },
  {
   "cell_type": "code",
   "execution_count": null,
   "metadata": {
    "vscode": {
     "languageId": "shellscript"
    }
   },
   "outputs": [],
   "source": [
    "docker load -i <filename>.tar  "
   ]
  },
  {
   "cell_type": "markdown",
   "metadata": {},
   "source": [
    "4. Delete the .tar file with command `rm` in the MM"
   ]
  },
  {
   "cell_type": "code",
   "execution_count": null,
   "metadata": {
    "vscode": {
     "languageId": "shellscript"
    }
   },
   "outputs": [],
   "source": [
    "rm <filename>.tar"
   ]
  },
  {
   "cell_type": "markdown",
   "metadata": {},
   "source": [
    "5. Exit the ssh shell with command `exit`"
   ]
  },
  {
   "cell_type": "code",
   "execution_count": null,
   "metadata": {
    "vscode": {
     "languageId": "shellscript"
    }
   },
   "outputs": [],
   "source": [
    "exit"
   ]
  },
  {
   "cell_type": "markdown",
   "metadata": {},
   "source": [
    "6. Delete the .tar file in the hostOS"
   ]
  },
  {
   "cell_type": "code",
   "execution_count": null,
   "metadata": {
    "vscode": {
     "languageId": "shellscript"
    }
   },
   "outputs": [],
   "source": [
    "rm ~/<filename>.tar"
   ]
  },
  {
   "cell_type": "markdown",
   "metadata": {},
   "source": [
    "#### D. Testing the image you just loaded in the MM\n",
    "\n",
    "1. Make sure you are in the `Labs` directory and **NOT** in `lab1`.  \n",
    "You might need to cd to `Labs`, recall that `cd ..` goes back one directory.  \n",
    "To make sure you are in the correct dir, check with command `pwd`\n",
    "\n",
    "2. Running the dts devel run command\n",
    "\t- The -H flag tells that we are running the docker image in the MM\n",
    "\t- The -s copies your repo to the /code folder on the robot so that it can be mounted by the -M flag. This means the code on the robot will resync with your code on your computer so it will update any changes you have made to your code.   \n",
    "\t- The -s will automatically copy the packages you developed in the `Lab1-open/lab1/ex_workspace/src`.   \n",
    "\tYou don't have to worry to manually copying it. The same will be set for the other labs.\n",
    "\t- It is unlikely that you will have to rebuild during this lab.\n",
    "\t- It might take sometime to run the image.\n",
    "\t- The --cmd will start a shell in the container you are running - the MM container.  \n",
    "\t- It initiates a terminal exactly the same as the `LXTerminal`. \n",
    "\t\t- For example, you can run catkin build and it should build the packages in the container (give it a try).\n",
    "\t- The -f forces when your git repo is not updated."
   ]
  },
  {
   "cell_type": "code",
   "execution_count": null,
   "metadata": {
    "vscode": {
     "languageId": "shellscript"
    }
   },
   "outputs": [],
   "source": [
    "dts devel run -H <MMname>.local -s -M --cmd bash -f "
   ]
  },
  {
   "cell_type": "markdown",
   "metadata": {},
   "source": [
    "#### E. Common errors\n",
    "1. If you get a docker conflict saying container is already running, there are two options \n",
    "\n",
    "\t- Attach to the running container.\n",
    "\n",
    "\t\t`dts devel run attach`\n",
    "\n",
    "\t- Delete the running container. Do this if you have updates \n",
    "\n",
    "\t\t- Connect to shell: ssh duckie@\\<MMname\\>.local \n",
    "\n",
    "\t\t- List docker images: docker ps \n",
    "\n",
    "\t\t- Delete the container: docker rm -f \\<container_ID\\> \n",
    "\n",
    "\t\t- Exit the shell: exit \n",
    "\n",
    "End of first run instruction"
   ]
  },
  {
   "cell_type": "markdown",
   "metadata": {},
   "source": [
    "## Usefull MM tools\n",
    "\n",
    "### Manually driving\n",
    "\n",
    "1. In a hostOS terminal run the following command\n",
    "\t- More details in https://docs.duckietown.com/daffy/opmanual-duckiebot/operations/make_it_move/index.html "
   ]
  },
  {
   "cell_type": "code",
   "execution_count": null,
   "metadata": {
    "vscode": {
     "languageId": "shellscript"
    }
   },
   "outputs": [],
   "source": [
    "dts duckiebot keyboard_control <MMname>"
   ]
  },
  {
   "cell_type": "markdown",
   "metadata": {},
   "source": [
    "### Observing the camera\n",
    "1. In a hostOS terminal run the following commands\n",
    "\t- After starting the start_gui_tools, you can also run the `rqt_graph` instead of the `rqt_image_view`.\n",
    "\t- More details in https://docs.duckietown.com/daffy/opmanual-duckiebot/operations/make_it_see/index.html"
   ]
  },
  {
   "cell_type": "code",
   "execution_count": null,
   "metadata": {
    "vscode": {
     "languageId": "shellscript"
    }
   },
   "outputs": [],
   "source": [
    "dts start_gui_tools <MMname>\n",
    "rqt_image_view"
   ]
  },
  {
   "cell_type": "markdown",
   "metadata": {},
   "source": [
    "## Testing your code in the MM\n",
    "\n",
    "1. Ensure you are connected to the classroom network\n",
    "2. Check if you MM is connected to the classroom network by running the code below.\n",
    "   - You should see the name of your MM pop up under hostname\n"
   ]
  },
  {
   "cell_type": "code",
   "execution_count": null,
   "metadata": {
    "vscode": {
     "languageId": "shellscript"
    }
   },
   "outputs": [],
   "source": [
    "dts fleet discover"
   ]
  },
  {
   "cell_type": "markdown",
   "metadata": {},
   "source": [
    "3. Run the `dts devel run` command"
   ]
  },
  {
   "cell_type": "code",
   "execution_count": null,
   "metadata": {
    "vscode": {
     "languageId": "shellscript"
    }
   },
   "outputs": [],
   "source": [
    "dts devel run -H <MMname>.local -s -M --cmd bash -f "
   ]
  },
  {
   "cell_type": "markdown",
   "metadata": {},
   "source": [
    "4. Once the MM shell appear, built and activate the catkin workspace"
   ]
  },
  {
   "cell_type": "code",
   "execution_count": null,
   "metadata": {
    "vscode": {
     "languageId": "shellscript"
    }
   },
   "outputs": [],
   "source": [
    "catkin_build\n",
    "source /code/catkin_ws/devel/setup.bash"
   ]
  },
  {
   "cell_type": "markdown",
   "metadata": {},
   "source": [
    "5. Run the node you want to test or the launch file from your package\n",
    "\t- The package, nodes, and launch files are the ones created "
   ]
  },
  {
   "cell_type": "code",
   "execution_count": null,
   "metadata": {
    "vscode": {
     "languageId": "shellscript"
    }
   },
   "outputs": [],
   "source": [
    "rosrun <package_name> <node_name>.py\n",
    "\n",
    "OR\n",
    "\n",
    "roslaunch <package_name> <launch_file>.py"
   ]
  }
 ],
 "metadata": {
  "kernelspec": {
   "display_name": "Python 3.8.10 64-bit",
   "language": "python",
   "name": "python3"
  },
  "language_info": {
   "name": "python",
   "version": "3.8.10"
  },
  "vscode": {
   "interpreter": {
    "hash": "916dbcbb3f70747c44a77c7bcd40155683ae19c65e1c03b4aa3499c5328201f1"
   }
  }
 },
 "nbformat": 4,
 "nbformat_minor": 2
}
